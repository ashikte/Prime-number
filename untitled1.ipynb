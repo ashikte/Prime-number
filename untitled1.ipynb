{
  "nbformat": 4,
  "nbformat_minor": 0,
  "metadata": {
    "colab": {
      "provenance": [],
      "authorship_tag": "ABX9TyONDxPv94SPZYess+qIei/U",
      "include_colab_link": true
    },
    "kernelspec": {
      "name": "python3",
      "display_name": "Python 3"
    },
    "language_info": {
      "name": "python"
    }
  },
  "cells": [
    {
      "cell_type": "markdown",
      "metadata": {
        "id": "view-in-github",
        "colab_type": "text"
      },
      "source": [
        "<a href=\"https://colab.research.google.com/github/ashikte/Prime-number/blob/main/untitled1.ipynb\" target=\"_parent\"><img src=\"https://colab.research.google.com/assets/colab-badge.svg\" alt=\"Open In Colab\"/></a>"
      ]
    },
    {
      "cell_type": "code",
      "execution_count": null,
      "metadata": {
        "colab": {
          "base_uri": "https://localhost:8080/"
        },
        "id": "nL6Jj5pVaU8l",
        "outputId": "389e9f19-06d0-4bff-e944-c21f18c0cada"
      },
      "outputs": [
        {
          "output_type": "stream",
          "name": "stdout",
          "text": [
            "5\n",
            "9\n",
            "sum of 5,9= 14\n"
          ]
        }
      ],
      "source": [
        "def addition(num1,num2):\n",
        "  print(f\"sum of {num1},{num2}=\",num1+num2)\n",
        "\n",
        "\n",
        "a=int(input())\n",
        "b=int(input())\n",
        "addition(a,b)"
      ]
    }
  ]
}