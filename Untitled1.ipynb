{
  "nbformat": 4,
  "nbformat_minor": 0,
  "metadata": {
    "colab": {
      "provenance": [],
      "authorship_tag": "ABX9TyPn1GTpnS01bSDjj5vRDfUH",
      "include_colab_link": true
    },
    "kernelspec": {
      "name": "python3",
      "display_name": "Python 3"
    },
    "language_info": {
      "name": "python"
    }
  },
  "cells": [
    {
      "cell_type": "markdown",
      "metadata": {
        "id": "view-in-github",
        "colab_type": "text"
      },
      "source": [
        "<a href=\"https://colab.research.google.com/github/ashikte/Prime-number/blob/main/Untitled1.ipynb\" target=\"_parent\"><img src=\"https://colab.research.google.com/assets/colab-badge.svg\" alt=\"Open In Colab\"/></a>"
      ]
    },
    {
      "cell_type": "code",
      "execution_count": null,
      "metadata": {
        "colab": {
          "base_uri": "https://localhost:8080/"
        },
        "id": "nL6Jj5pVaU8l",
        "outputId": "389e9f19-06d0-4bff-e944-c21f18c0cada"
      },
      "outputs": [
        {
          "output_type": "stream",
          "name": "stdout",
          "text": [
            "5\n",
            "9\n",
            "sum of 5,9= 14\n"
          ]
        }
      ],
      "source": [
        "def addition(num1,num2):\n",
        "  print(f\"sum of {num1},{num2}=\",num1+num2)\n",
        "\n",
        "\n",
        "a=int(input())\n",
        "b=int(input())\n",
        "addition(a,b)"
      ]
    },
    {
      "cell_type": "code",
      "source": [
        "def factorial(n):\n",
        "  if n==0:\n",
        "    return1;\n",
        "\n",
        "  result=1\n",
        "  for i in range(1,n+1):\n",
        "    result*=i\n",
        "  return result\n",
        "factorial(int(input()))\n"
      ],
      "metadata": {
        "id": "us1kxB0whLxi",
        "colab": {
          "base_uri": "https://localhost:8080/"
        },
        "outputId": "63cd1738-fe0f-498d-fb69-124a87f06ad7"
      },
      "execution_count": 29,
      "outputs": [
        {
          "name": "stdout",
          "output_type": "stream",
          "text": [
            "5\n"
          ]
        },
        {
          "output_type": "execute_result",
          "data": {
            "text/plain": [
              "120"
            ]
          },
          "metadata": {},
          "execution_count": 29
        }
      ]
    },
    {
      "cell_type": "code",
      "source": [],
      "metadata": {
        "id": "1Bzj8OU_egwy"
      },
      "execution_count": null,
      "outputs": []
    }
  ]
}